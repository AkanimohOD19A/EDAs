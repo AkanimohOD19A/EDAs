{
 "cells": [
  {
   "cell_type": "code",
   "execution_count": 1,
   "metadata": {},
   "outputs": [],
   "source": [
    "import pandas as pd\n",
    "import numpy as np\n",
    "import matplotlib.pyplot as plt\n",
    "import seaborn as sns\n",
    "%matplotlib inline\n",
    "\n",
    "sns.set(style = 'darkgrid')\n",
    "\n",
    "import warnings\n",
    "warnings.filterwarnings('ignore')"
   ]
  },
  {
   "cell_type": "code",
   "execution_count": 2,
   "metadata": {},
   "outputs": [],
   "source": [
    "## LOAD DATASET"
   ]
  },
  {
   "cell_type": "code",
   "execution_count": 3,
   "metadata": {},
   "outputs": [],
   "source": [
    "###Excel File\n",
    "Dta = pd.ExcelFile(\"C:/Users/HP/Documents/KPMG/KPMG_Data.xlsx\")\n",
    "\n",
    "###Excel Sheets\n",
    "ts = Dta.parse('Transactions')\n",
    "transactions = ts.copy()\n",
    "\n",
    "cd = Dta.parse('CustomerDemographic')\n",
    "cust_demo = cd.copy()\n",
    "\n",
    "ca = Dta.parse('CustomerAddress')\n",
    "cust_add = ca.copy()\n",
    "\n",
    "nc = Dta.parse('NewCustomerList')\n",
    "target_dta = nc.copy()"
   ]
  },
  {
   "cell_type": "code",
   "execution_count": 4,
   "metadata": {},
   "outputs": [],
   "source": [
    "### MERGE ORIGINAL DATASET"
   ]
  },
  {
   "cell_type": "code",
   "execution_count": 5,
   "metadata": {},
   "outputs": [],
   "source": [
    "df = pd.merge(ts, cd, how=\"outer\", on = \"customer_id\")\n",
    "df = pd.merge(df, ca, how=\"outer\", on = \"customer_id\")\n",
    "dta = df.copy()"
   ]
  },
  {
   "cell_type": "code",
   "execution_count": 6,
   "metadata": {},
   "outputs": [
    {
     "name": "stdout",
     "output_type": "stream",
     "text": [
      "<class 'pandas.core.frame.DataFrame'>\n",
      "Int64Index: 20510 entries, 0 to 20509\n",
      "Data columns (total 30 columns):\n",
      "transaction_id                         20000 non-null float64\n",
      "product_id                             20000 non-null float64\n",
      "customer_id                            20510 non-null int64\n",
      "transaction_date                       20000 non-null datetime64[ns]\n",
      "online_order                           19640 non-null float64\n",
      "order_status                           20000 non-null object\n",
      "brand                                  19803 non-null object\n",
      "product_line                           19803 non-null object\n",
      "product_class                          19803 non-null object\n",
      "product_size                           19803 non-null object\n",
      "list_price                             20000 non-null float64\n",
      "standard_cost                          19803 non-null float64\n",
      "product_first_sold_date                19803 non-null float64\n",
      "first_name                             20504 non-null object\n",
      "last_name                              19849 non-null object\n",
      "gender                                 20504 non-null object\n",
      "past_3_years_bike_related_purchases    20504 non-null float64\n",
      "DOB                                    20047 non-null datetime64[ns]\n",
      "job_title                              18027 non-null object\n",
      "job_industry_category                  17180 non-null object\n",
      "wealth_segment                         20504 non-null object\n",
      "deceased_indicator                     20504 non-null object\n",
      "default                                19005 non-null object\n",
      "owns_car                               20504 non-null object\n",
      "tenure                                 20047 non-null float64\n",
      "address                                20478 non-null object\n",
      "postcode                               20478 non-null float64\n",
      "state                                  20478 non-null object\n",
      "country                                20478 non-null object\n",
      "property_valuation                     20478 non-null float64\n",
      "dtypes: datetime64[ns](2), float64(10), int64(1), object(17)\n",
      "memory usage: 4.9+ MB\n"
     ]
    }
   ],
   "source": [
    "df.info()"
   ]
  },
  {
   "cell_type": "code",
   "execution_count": 7,
   "metadata": {},
   "outputs": [],
   "source": [
    "## DATA QUALITY ASSESSMENT"
   ]
  },
  {
   "cell_type": "code",
   "execution_count": 8,
   "metadata": {},
   "outputs": [
    {
     "name": "stdout",
     "output_type": "stream",
     "text": [
      "transaction_id columns missing values: 510\n",
      "product_id columns missing values: 510\n",
      "transaction_date columns missing values: 510\n",
      "online_order columns missing values: 870\n",
      "order_status columns missing values: 510\n",
      "brand columns missing values: 707\n",
      "product_line columns missing values: 707\n",
      "product_class columns missing values: 707\n",
      "product_size columns missing values: 707\n",
      "list_price columns missing values: 510\n",
      "standard_cost columns missing values: 707\n",
      "product_first_sold_date columns missing values: 707\n",
      "first_name columns missing values: 6\n",
      "last_name columns missing values: 661\n",
      "gender columns missing values: 6\n",
      "past_3_years_bike_related_purchases columns missing values: 6\n",
      "DOB columns missing values: 463\n",
      "job_title columns missing values: 2483\n",
      "job_industry_category columns missing values: 3330\n",
      "wealth_segment columns missing values: 6\n",
      "deceased_indicator columns missing values: 6\n",
      "default columns missing values: 1505\n",
      "owns_car columns missing values: 6\n",
      "tenure columns missing values: 463\n",
      "address columns missing values: 32\n",
      "postcode columns missing values: 32\n",
      "state columns missing values: 32\n",
      "country columns missing values: 32\n",
      "property_valuation columns missing values: 32\n",
      "\n",
      " ['transaction_id', 'product_id', 'transaction_date', 'online_order', 'order_status', 'brand', 'product_line', 'product_class', 'product_size', 'list_price', 'standard_cost', 'product_first_sold_date', 'first_name', 'last_name', 'gender', 'past_3_years_bike_related_purchases', 'DOB', 'job_title', 'job_industry_category', 'wealth_segment', 'deceased_indicator', 'default', 'owns_car', 'tenure', 'address', 'postcode', 'state', 'country', 'property_valuation']\n"
     ]
    }
   ],
   "source": [
    "def display_missing(data):\n",
    "    m_col = []\n",
    "    for col in data.columns:\n",
    "        if data[col].isnull().sum() > 0:\n",
    "            print('{} columns missing values: {}'. format(col, data[col].isnull().sum()))\n",
    "            m_col.append(col)\n",
    "    print('\\n',m_col)\n",
    "    \n",
    "display_missing(df)"
   ]
  },
  {
   "cell_type": "raw",
   "metadata": {},
   "source": [
    "dt = pd.DataFrame(list(zip(df.columns,df.isna().sum()/20510*100, df.isna().sum())))\n",
    "dt"
   ]
  },
  {
   "cell_type": "code",
   "execution_count": 9,
   "metadata": {},
   "outputs": [
    {
     "name": "stdout",
     "output_type": "stream",
     "text": [
      "##### Categorical Data #####\n",
      "order_status\n",
      "Approved     19821\n",
      "Cancelled      179\n",
      "Name: order_status, dtype: int64 \n",
      "\n",
      "brand\n",
      "Solex             4253\n",
      "Giant Bicycles    3312\n",
      "WeareA2B          3295\n",
      "OHM Cycles        3043\n",
      "Trek Bicycles     2990\n",
      "Norco Bicycles    2910\n",
      "Name: brand, dtype: int64 \n",
      "\n",
      "product_line\n",
      "Standard    14176\n",
      "Road         3970\n",
      "Touring      1234\n",
      "Mountain      423\n",
      "Name: product_line, dtype: int64 \n",
      "\n",
      "product_class\n",
      "medium    13826\n",
      "high       3013\n",
      "low        2964\n",
      "Name: product_class, dtype: int64 \n",
      "\n",
      "product_size\n",
      "medium    12990\n",
      "large      3976\n",
      "small      2837\n",
      "Name: product_size, dtype: int64 \n",
      "\n",
      "first_name\n",
      "Corabelle    36\n",
      "Tobe         31\n",
      "Emlyn        29\n",
      "Lindsay      28\n",
      "Max          26\n",
      "Catie        26\n",
      "Gar          26\n",
      "Keeley       25\n",
      "Curran       24\n",
      "Hubie        24\n",
      "Ebba         24\n",
      "Lauree       24\n",
      "Mead         23\n",
      "Andreas      23\n",
      "Basile       23\n",
      "Brita        23\n",
      "Marcile      22\n",
      "Brett        22\n",
      "Nicko        22\n",
      "Kristofor    21\n",
      "Jayme        21\n",
      "Benedicto    21\n",
      "Shamus       21\n",
      "Mercy        21\n",
      "Fields       21\n",
      "Timmie       20\n",
      "Humfrey      20\n",
      "Gerome       20\n",
      "Jessamine    20\n",
      "Kippy        20\n",
      "             ..\n",
      "Morena        1\n",
      "Cindie        1\n",
      "Sarene        1\n",
      "Fifi          1\n",
      "Cal           1\n",
      "Devon         1\n",
      "Orel          1\n",
      "Dave          1\n",
      "Morgen        1\n",
      "Sabina        1\n",
      "Lillis        1\n",
      "Cora          1\n",
      "Austine       1\n",
      "Tobin         1\n",
      "Blondelle     1\n",
      "Rochette      1\n",
      "Bram          1\n",
      "Sallyann      1\n",
      "Mil           1\n",
      "Chiarra       1\n",
      "Sarajane      1\n",
      "Marcos        1\n",
      "Vin           1\n",
      "Lorette       1\n",
      "Wolfie        1\n",
      "Jacqui        1\n",
      "Lin           1\n",
      "Leila         1\n",
      "Dorette       1\n",
      "Stephen       1\n",
      "Name: first_name, Length: 3139, dtype: int64 \n",
      "\n",
      "last_name\n",
      "Gladman        24\n",
      "Fyndon         23\n",
      "Ramsdell       18\n",
      "Creebo         18\n",
      "Leek           18\n",
      "Elgey          18\n",
      "Alpes          17\n",
      "Pristnor       17\n",
      "Fortesquieu    17\n",
      "Lithgow        17\n",
      "Mulliner       17\n",
      "Duke           16\n",
      "Siegertsz      16\n",
      "Neissen        16\n",
      "Ortler         16\n",
      "Coxhell        16\n",
      "Chape          15\n",
      "Eager          15\n",
      "Hackworth      15\n",
      "Carswell       15\n",
      "Strutz         15\n",
      "Whittlesea     15\n",
      "Juett          14\n",
      "Klossek        14\n",
      "Braddon        14\n",
      "Lauthian       14\n",
      "Neasham        14\n",
      "Baudichon      14\n",
      "Wonfor         14\n",
      "Dahlman        14\n",
      "               ..\n",
      "Laskey          1\n",
      "Phillput        1\n",
      "McClymont       1\n",
      "Caine           1\n",
      "Kubica          1\n",
      "Maguire         1\n",
      "Kenneford       1\n",
      "Gasparro        1\n",
      "Wakeham         1\n",
      "Kitchener       1\n",
      "Portigall       1\n",
      "Nacci           1\n",
      "Finlater        1\n",
      "Keays           1\n",
      "Gethyn          1\n",
      "Heller          1\n",
      "Mortimer        1\n",
      "Butterfield     1\n",
      "Rodgers         1\n",
      "Munro           1\n",
      "Epsley          1\n",
      "Neenan          1\n",
      "Hubbert         1\n",
      "Grevatt         1\n",
      "Monnery         1\n",
      "Ygo             1\n",
      "Shitliff        1\n",
      "Byrth           1\n",
      "Minor           1\n",
      "Glavias         1\n",
      "Name: last_name, Length: 3725, dtype: int64 \n",
      "\n",
      "gender\n",
      "Female    10272\n",
      "Male       9742\n",
      "U           466\n",
      "F            11\n",
      "Femal         7\n",
      "M             6\n",
      "Name: gender, dtype: int64 \n",
      "\n",
      "job_title\n",
      "Social Worker                           232\n",
      "Business Systems Development Analyst    226\n",
      "Legal Assistant                         225\n",
      "Assistant Professor                     215\n",
      "Internal Auditor                        213\n",
      "Executive Secretary                     209\n",
      "Nuclear Power Engineer                  205\n",
      "Tax Accountant                          204\n",
      "Recruiting Manager                      202\n",
      "Chemical Engineer                       198\n",
      "Associate Professor                     197\n",
      "Administrative Officer                  197\n",
      "Speech Pathologist                      196\n",
      "Research Nurse                          196\n",
      "General Manager                         194\n",
      "VP Marketing                            191\n",
      "Clinical Specialist                     189\n",
      "Junior Executive                        186\n",
      "Assistant Media Planner                 184\n",
      "Registered Nurse                        183\n",
      "Information Systems Manager             182\n",
      "Desktop Support Technician              180\n",
      "Product Engineer                        179\n",
      "Recruiter                               178\n",
      "VP Product Management                   177\n",
      "Dental Hygienist                        176\n",
      "Senior Developer                        176\n",
      "Food Chemist                            175\n",
      "Help Desk Operator                      174\n",
      "Quality Engineer                        173\n",
      "                                       ... \n",
      "Web Developer IV                         30\n",
      "Automation Specialist IV                 30\n",
      "Accounting Assistant IV                  30\n",
      "Office Assistant I                       30\n",
      "Staff Accountant II                      30\n",
      "Accountant II                            30\n",
      "Database Administrator I                 29\n",
      "Programmer Analyst IV                    28\n",
      "Geologist IV                             27\n",
      "Safety Technician IV                     26\n",
      "Staff Accountant IV                      26\n",
      "Budget/Accounting Analyst II             25\n",
      "Developer II                             25\n",
      "Software Engineer IV                     25\n",
      "Research Assistant I                     24\n",
      "Human Resources Assistant IV             24\n",
      "Programmer IV                            23\n",
      "Programmer Analyst I                     22\n",
      "Staff Accountant I                       20\n",
      "Computer Systems Analyst III             19\n",
      "Health Coach I                           19\n",
      "Biostatistician III                      19\n",
      "Database Administrator II                18\n",
      "Administrative Assistant I               18\n",
      "Account Representative II                17\n",
      "Systems Administrator IV                 17\n",
      "Health Coach III                         15\n",
      "Geologist II                             13\n",
      "Research Assistant III                   10\n",
      "Developer I                               7\n",
      "Name: job_title, Length: 195, dtype: int64 \n",
      "\n",
      "job_industry_category\n",
      "Manufacturing         4110\n",
      "Financial Services    3973\n",
      "Health                3169\n",
      "Retail                1812\n",
      "Property              1333\n",
      "IT                    1118\n",
      "Entertainment          711\n",
      "Argiculture            591\n",
      "Telecommunications     363\n",
      "Name: job_industry_category, dtype: int64 \n",
      "\n",
      "wealth_segment\n",
      "Mass Customer        10304\n",
      "High Net Worth        5214\n",
      "Affluent Customer     4986\n",
      "Name: wealth_segment, dtype: int64 \n",
      "\n",
      "deceased_indicator\n",
      "N    20495\n",
      "Y        9\n",
      "Name: deceased_indicator, dtype: int64 \n",
      "\n",
      "default\n",
      "-1                                                                                                                                                                                                                    583\n",
      "100                                                                                                                                                                                                                   570\n",
      "1                                                                                                                                                                                                                     561\n",
      "-100                                                                                                                                                                                                                  520\n",
      "Ù¡Ù¢Ù£                                                                                                                                                                                                                267\n",
      "â°â´âµ                                                                                                                                                                                                                264\n",
      "â¦testâ§                                                                                                                                                                                                              262\n",
      "ï½ï½¨(Â´âï½â©                                                                                                                                                                                                         259\n",
      "â°â´âµâââ                                                                                                                                                                                                             259\n",
      "!@#$%^&*()                                                                                                                                                                                                            251\n",
      "(ï¾à²¥çà²¥ï¼ï¾ï»¿ â»ââ»                                                                                                                                                                                               243\n",
      "../../../../../../../../../../../etc/passwd%00                                                                                                                                                                        241\n",
      "â                                                                                                                                                                                                                     239\n",
      "á                                                                                                                                                                                                                     236\n",
      "TÌÌ­ÌºÌºoÍ Ì·iÌ²Ì¬ÍÌªÍnÌÌÍvÍÌÌÌÌ¦oÌ¶ÌÌ°Ì keÍÍÌ®ÌºÌªÌ¹Ì±Ì¤ ÌtÍÌÍÌ³Ì£Ì»ÌªhÌ¼ÍÌ²Ì¦Ì³ÌÌ²eÍÌ£Ì°Ì¦Ì¬Í Ì¢Ì¼Ì»Ì±ÌhÍÍÍÍÌÌ£Ì²iÌ¦Ì²Ì£Ì°Ì¤vÌ»ÍeÌºÌ­Ì³ÌªÌ°-mÌ¢iÍnÌÌºÌÌ²Ì¯Ì°dÌµÌ¼ÌÍÌ©Ì¼ÌÌ³ ÌÌ¥Ì±Ì³Ì­rÌÌÌeÍpÍ rÌ¼ÌÌ»Ì­ÌeÍÌºÌ Ì£sÌ    231\n",
      "ð ð ±ð ¹ð ±ð ±¸ð ²ð ³                                                                                                                                                                                                 229\n",
      "ï¼ï¼ï¼                                                                                                                                                                                                                228\n",
      "ÅâÂ´â°ËÃÂ¨ËÃâââ                                                                                                                                                                                                       228\n",
      "×Ö¼Ö°×¨Öµ××©×Ö´××ª, ×Ö¼Ö¸×¨Ö¸× ×Ö±×Ö¹×Ö´××, ×Öµ×ª ×Ö·×©Ö¼×Ö¸×Ö·×Ö´×, ×Ö°×Öµ×ª ×Ö¸×Ö¸×¨Ö¶×¥                                                                                                                            226\n",
      "00ËÆ$-                                                                                                                                                                                                                226\n",
      "1000000000000000049861653971908893017010268485438462151574892930611988399099305815384459015356416                                                                                                                     223\n",
      "() { _; } >_[$($())] { touch /tmp/blns.shellshock2.fail; }                                                                                                                                                            222\n",
      "ÅâÂ´Â®â Â¥Â¨ËÃ¸Ïââ                                                                                                                                                                                                    218\n",
      "â©testâ©                                                                                                                                                                                                              218\n",
      "__ï¾(,_,*)                                                                                                                                                                                                            218\n",
      "Ì¦HÍÌ¬Ì¤ÌÌ¤eÍ ÍÌÌ¥ÌÌ»ÍÌwÌhÌÌ¯ÍoÌÍÌÍÌ±Ì® ÒÌºÌÌÌÍWÌ·Ì¼Ì­aÌºÌªÍiÌ¨ÍÍÌ­ÍÌ¯ÌtÌ¶Ì¼Ì®sÌÌÍÍ Ì Ì«Ì BÌ»ÍÍÍÍÌ³eÌµhÌµÌ¬ÍÌ«ÍiÌÌ¹ÍÌ³Ì³Ì®ÍÌ«nÍdÌ´ÌªÌÌ ÍÌ°ÍÌ©ÍÍÍÌ²TÍ¢ÍÌ¼ÍÌªhÍÍÌ®Ì»eÌ¬ÌÍÌ Ì¤Ì¹ÌWÍÍÍÌÌÍÍaÍÍÍÌ¹Ì¼                        214\n",
      "`ââ¬â¹âºï¬ï¬â¡Â°Â·ââÂ±                                                                                                                                                                                                214\n",
      "0/0                                                                                                                                                                                                                   212\n",
      "nil                                                                                                                                                                                                                   211\n",
      "Î©âÃ§ââ«ËÂµâ¤â¥Ã·                                                                                                                                                                                                     210\n",
      "                                                                                                                                                                                                                     ... \n",
      "0                                                                                                                                                                                                                     180\n",
      "ì¬íê³¼íì ì´íì°êµ¬ì                                                                                                                                                                                                    179\n",
      "â¢                                                                                                                                                                                                                    179\n",
      "() { 0; }; touch /tmp/blns.shellshock1.fail;                                                                                                                                                                          179\n",
      "<svg><script>0<1>alert('XSS')</script>                                                                                                                                                                                179\n",
      "åè£½æ¼¢èª                                                                                                                                                                                                             179\n",
      "<>?:\"{}|_+                                                                                                                                                                                                            178\n",
      "ÌÌºÍÌ¹Ì¯ÍTÌ±Ì¤ÍÌ¥ÍÍhÍÌ²eÍÍÌ¼ÌÌÌ¼Ì£Í ÍÌÌ±Ì ÍÍÍNÍ ÍeÌÌ±zÌÌÌÌºÍpÌ¤ÌºÌ¹ÍÌ¯ÍeÍÌ Ì»Ì rÌ¨Ì¤ÍÌºÌÍÌÌdÍÌ ÌÌ­Ì¬ÌiÌ¦ÍÌ©ÍÍÌ¤aÌ ÌÌ¬ÍÌnÍÍ Ì»ÌÌ°ÍÍhÌµÍiÌ³ÌvÌ¢ÍeÍÌ­Í-ÒÌ­Ì©Ì¼ÍmÌ¤Ì­Ì«iÍÍÌÌ¦nÌÍdÌ£Ì ÍÌ¯Ì²ÍoÌ¨ÌÌ¯Ì°Ì²                     178\n",
      "1'; DROP TABLE users--                                                                                                                                                                                                176\n",
      "Ã¥ÃâÆÂ©ËâËÂ¬â¦Ã¦                                                                                                                                                                                                      174\n",
      "<script>alert('hi')</script>                                                                                                                                                                                          167\n",
      "ã»(ï¿£âï¿£)ã»:*:                                                                                                                                                                                                      166\n",
      "ð¾ ð ð ð ð ð ð ð                                                                                                                                                                                                      165\n",
      ",./;'[]\\-=                                                                                                                                                                                                            165\n",
      "ã                                                                                                                                                                                                                     164\n",
      "NIL                                                                                                                                                                                                                   164\n",
      "â£                                                                                                                                                                                                                    164\n",
      "ç¤¾æç§å­¸é¢èªå­¸ç ç©¶æ                                                                                                                                                                                                162\n",
      "ï¾ï½¥â¿ã¾â²(ï½¡ââ¿âï½¡)â±â¿ï½¥ï¾                                                                                                                                                                                      158\n",
      "-0.5                                                                                                                                                                                                                  158\n",
      "/dev/null; touch /tmp/blns.fail ; echo                                                                                                                                                                                158\n",
      "é¨è½æ ¼                                                                                                                                                                                                               155\n",
      "'\"''''\"                                                                                                                                                                                                               154\n",
      "<img src=x onerror=alert('hi') />                                                                                                                                                                                     153\n",
      "Ì¡ÍÍÌIÍÌÌÌ¦nÍÍÍvÌ®Ì«okÌ²Ì«ÌÍiÌÍÌ­Ì¹Ì ÌnÌ¡Ì»Ì®Ì£ÌºgÌ²ÍÍÌ­ÍÌ¬Í Ì°tÍÌ¦hÌÌ²eÌ¢Ì¤ ÍÌ¬Ì²ÍfÌ´ÌÍÌ£eÍÍeÌ£Ì¥Ì©lÍÍÍiÍ ÍÍÌ¦nÍÍÌÍÌ³Ì®gÍ Ì¨oÍ¡ÍÌªfÌÌ£Ì¬ ÌÌÍÌÍÌ®cÒÍÌ«ÍÍÍÍÍhÌµÌ¤Ì£ÍÍaÍÌÌ¼ÍÍoÌ¼Ì£Ì¥sÍ¢Ì±ÍÌºÌÌ¦Ì».ÌÌ                    144\n",
      "âªâªtestâª                                                                                                                                                                                                            143\n",
      ",ãã»:*:ã»ãâ( â» Ï â» )ãã»:*:ã»ãâ                                                                                                                                                                                      143\n",
      "ðµ ð ð ð                                                                                                                                                                                                              142\n",
      "testâ testâ«                                                                                                                                                                                                          136\n",
      "ì¸ëë°í ë¥´                                                                                                                                                                                                            131\n",
      "Name: default, Length: 90, dtype: int64 \n",
      "\n",
      "owns_car\n",
      "Yes    10317\n",
      "No     10187\n",
      "Name: owns_car, dtype: int64 \n",
      "\n",
      "address\n",
      "567 Scott Park                14\n",
      "3 Talisman Place              14\n",
      "4297 Emmet Lane               14\n",
      "3 Mariners Cove Terrace       14\n",
      "8142 Tomscot Drive            14\n",
      "53 Dakota Court               13\n",
      "1 Nevada Park                 13\n",
      "8587 Graceland Way            13\n",
      "9 Sugar Junction              13\n",
      "9427 Tennyson Plaza           13\n",
      "7916 Clyde Gallagher Place    13\n",
      "3126 Butterfield Pass         13\n",
      "81856 Express Lane            13\n",
      "259 Barnett Crossing          13\n",
      "18118 Maple Wood Crossing     13\n",
      "692 Leroy Parkway             13\n",
      "12 Fairfield Parkway          13\n",
      "29438 Swallow Crossing        13\n",
      "78258 Hanover Plaza           13\n",
      "2241 Pearson Plaza            13\n",
      "80302 Stang Parkway           13\n",
      "7389 Union Place              12\n",
      "9816 Carberry Trail           12\n",
      "882 Mitchell Place            12\n",
      "5882 American Ash Point       12\n",
      "44997 Anniversary Way         12\n",
      "38726 Ilene Crossing          12\n",
      "636 Debs Circle               12\n",
      "5 Schurz Place                12\n",
      "9 Springview Terrace          12\n",
      "                              ..\n",
      "45 Fordem Court                1\n",
      "69131 Kipling Alley            1\n",
      "789 Alpine Lane                1\n",
      "9904 Oakridge Parkway          1\n",
      "9594 Brown Junction            1\n",
      "266 Little Fleur Street        1\n",
      "2428 Sloan Circle              1\n",
      "427 Talmadge Terrace           1\n",
      "4 Dexter Park                  1\n",
      "85 Trailsway Road              1\n",
      "7 Rieder Street                1\n",
      "23301 Bluestem Drive           1\n",
      "546 Summerview Center          1\n",
      "28008 Mesta Lane               1\n",
      "344 Dayton Drive               1\n",
      "00 Esker Point                 1\n",
      "5 Atwood Crossing              1\n",
      "2 Havey Point                  1\n",
      "32876 American Ash Avenue      1\n",
      "147 Brickson Park Drive        1\n",
      "7585 Rutledge Trail            1\n",
      "1929 Crowley Drive             1\n",
      "0616 Messerschmidt Place       1\n",
      "614 Burning Wood Way           1\n",
      "792 Clyde Gallagher Trail      1\n",
      "56 Anderson Alley              1\n",
      "23 West Crossing               1\n",
      "8 Hoffman Alley                1\n",
      "25413 Delaware Pass            1\n",
      "4 Debra Hill                   1\n",
      "Name: address, Length: 3996, dtype: int64 \n",
      "\n",
      "state\n",
      "NSW                10474\n",
      "VIC                 4682\n",
      "QLD                 4357\n",
      "New South Wales      485\n",
      "Victoria             480\n",
      "Name: state, dtype: int64 \n",
      "\n",
      "country\n",
      "Australia    20478\n",
      "Name: country, dtype: int64 \n",
      "\n",
      "['order_status', 'brand', 'product_line', 'product_class', 'product_size', 'first_name', 'last_name', 'gender', 'job_title', 'job_industry_category', 'wealth_segment', 'deceased_indicator', 'default', 'owns_car', 'address', 'state', 'country']\n"
     ]
    }
   ],
   "source": [
    "print(\"##### Categorical Data #####\")\n",
    "cat_col = []\n",
    "for col in df.columns.tolist():\n",
    "    if df[col].dtype == 'object':\n",
    "        print(col)\n",
    "        print(df[col].value_counts(),'\\n')\n",
    "        cat_col.append(col)\n",
    "print(cat_col)"
   ]
  },
  {
   "cell_type": "code",
   "execution_count": 10,
   "metadata": {},
   "outputs": [
    {
     "data": {
      "text/plain": [
       "count                   20047\n",
       "unique                   3448\n",
       "top       1978-01-30 00:00:00\n",
       "freq                       48\n",
       "first     1843-12-21 00:00:00\n",
       "last      2002-03-11 00:00:00\n",
       "Name: DOB, dtype: object"
      ]
     },
     "execution_count": 10,
     "metadata": {},
     "output_type": "execute_result"
    }
   ],
   "source": [
    "df['DOB'].describe()"
   ]
  },
  {
   "cell_type": "code",
   "execution_count": 11,
   "metadata": {},
   "outputs": [
    {
     "name": "stdout",
     "output_type": "stream",
     "text": [
      "DatetimeIndex(['1843-12-21', '1931-10-23', '1935-08-22', '1940-09-22',\n",
      "               '1943-08-11', '1944-01-24', '1953-08-09', '1953-08-17',\n",
      "               '1953-08-31', '1953-09-05',\n",
      "               ...\n",
      "               '2001-11-19', '2001-11-30', '2001-12-08', '2001-12-19',\n",
      "               '2002-01-01', '2002-01-06', '2002-01-09', '2002-01-15',\n",
      "               '2002-01-26', '2002-03-11'],\n",
      "              dtype='datetime64[ns]', name='DOB', length=3448, freq=None) \n",
      " [ 89737. 101563.  25869. ...  40945.  50778.  46006.]\n"
     ]
    },
    {
     "data": {
      "text/plain": [
       "<matplotlib.axes._subplots.AxesSubplot at 0x240f238a3c8>"
      ]
     },
     "execution_count": 11,
     "metadata": {},
     "output_type": "execute_result"
    },
    {
     "data": {
      "image/png": "[encoded data removed]",
      "text/plain": [
       "<Figure size 432x288 with 1 Axes>"
      ]
     },
     "metadata": {
      "needs_background": "light"
     },
     "output_type": "display_data"
    }
   ],
   "source": [
    "rs = df.groupby('DOB').transaction_id.sum()\n",
    "print(rs.index,'\\n', rs.values)\n",
    "sns.lineplot(x = rs.index, y = rs.values)"
   ]
  },
  {
   "cell_type": "code",
   "execution_count": 12,
   "metadata": {},
   "outputs": [
    {
     "data": {
      "text/plain": [
       "list_price       1107.829449\n",
       "standard_cost     556.046951\n",
       "dtype: float64"
      ]
     },
     "execution_count": 12,
     "metadata": {},
     "output_type": "execute_result"
    }
   ],
   "source": [
    "df[['list_price', 'standard_cost']].mean()"
   ]
  },
  {
   "cell_type": "code",
   "execution_count": 13,
   "metadata": {
    "scrolled": false
   },
   "outputs": [
    {
     "data": {
      "text/plain": [
       "<matplotlib.axes._subplots.AxesSubplot at 0x240f2357d30>"
      ]
     },
     "execution_count": 13,
     "metadata": {},
     "output_type": "execute_result"
    },
    {
     "data": {
      "image/png": "[encoded data removed]",
      "text/plain": [
       "<Figure size 432x288 with 1 Axes>"
      ]
     },
     "metadata": {
      "needs_background": "light"
     },
     "output_type": "display_data"
    }
   ],
   "source": [
    "sns.lineplot(x = df.product_first_sold_date.value_counts().index, y = df.product_first_sold_date.value_counts().values)"
   ]
  },
  {
   "cell_type": "code",
   "execution_count": 14,
   "metadata": {},
   "outputs": [],
   "source": [
    "## DATA CLEANING"
   ]
  },
  {
   "cell_type": "code",
   "execution_count": 15,
   "metadata": {},
   "outputs": [],
   "source": [
    "### 2017 - 1843\n",
    "## Clearly certain customers are already dead.\n",
    "df['age'] = 2020 - df.DOB.apply(lambda x: int(x.strftime('%Y')) if x==x else None)"
   ]
  },
  {
   "cell_type": "code",
   "execution_count": 16,
   "metadata": {},
   "outputs": [],
   "source": [
    "## Product_first_sold_date is a Date*\n",
    "df.product_first_sold_date = pd.to_timedelta(df.product_first_sold_date, unit = 'D') + pd.to_datetime('1889-12-30')"
   ]
  },
  {
   "cell_type": "code",
   "execution_count": 17,
   "metadata": {
    "scrolled": true
   },
   "outputs": [],
   "source": [
    "#sns.lineplot(x = df.product_first_sold_date ].value_counts().index, y = df.product_first_sold_date.value_counts().values)"
   ]
  },
  {
   "cell_type": "code",
   "execution_count": 18,
   "metadata": {},
   "outputs": [],
   "source": [
    "df.state = df.state.replace(to_replace = {'New South Wales': 'NSW', 'Victoria':'VIC'})\n",
    "df.gender = df.gender.replace({'Female':'F', 'Femal':'F', 'Male':'M'})"
   ]
  },
  {
   "cell_type": "code",
   "execution_count": 19,
   "metadata": {},
   "outputs": [],
   "source": [
    "df = df[(df['order_status'] == 'Approved') & (df['deceased_indicator'] == 'N')].reset_index()"
   ]
  },
  {
   "cell_type": "code",
   "execution_count": 20,
   "metadata": {},
   "outputs": [],
   "source": [
    "drp = ['country', 'postcode', 'address', \n",
    "       'default', 'DOB', 'first_name', \n",
    "       'last_name', 'standard_cost', 'job_title',\n",
    "       'transaction_date', 'order_status', \n",
    "       'deceased_indicator', 'index'] #'ob_title'\n",
    "\n",
    "df.drop(columns = drp, inplace = True)\n",
    "dta2 = df.copy()"
   ]
  },
  {
   "cell_type": "code",
   "execution_count": 21,
   "metadata": {},
   "outputs": [],
   "source": [
    "### Partial Drop\n",
    "na_drop = ['transaction_id', 'brand', 'online_order', 'tenure', 'state']\n",
    "\n",
    "df.dropna(subset = na_drop, inplace = True)\n",
    "df = df.reset_index(drop =True)"
   ]
  },
  {
   "cell_type": "code",
   "execution_count": 22,
   "metadata": {
    "scrolled": true
   },
   "outputs": [
    {
     "data": {
      "text/plain": [
       "(18809, 19)"
      ]
     },
     "execution_count": 22,
     "metadata": {},
     "output_type": "execute_result"
    }
   ],
   "source": [
    "df.shape"
   ]
  },
  {
   "cell_type": "code",
   "execution_count": 23,
   "metadata": {},
   "outputs": [
    {
     "name": "stdout",
     "output_type": "stream",
     "text": [
      "['gender', 'past_3_years_bike_related_purchases', 'job_industry_category', 'wealth_segment', 'owns_car', 'tenure', 'state', 'property_valuation']\n"
     ]
    }
   ],
   "source": [
    "##Columns present in both origin and target\n",
    "col = []\n",
    "for i in nc.columns.tolist():\n",
    "    for j in df.columns.tolist():\n",
    "        if i == j:\n",
    "            col.append(i)\n",
    "print(col)"
   ]
  },
  {
   "cell_type": "code",
   "execution_count": 24,
   "metadata": {},
   "outputs": [
    {
     "name": "stdout",
     "output_type": "stream",
     "text": [
      "['transaction_id', 'product_id', 'customer_id', 'online_order', 'brand', 'product_line', 'product_class', 'product_size', 'list_price', 'product_first_sold_date', 'age']\n"
     ]
    }
   ],
   "source": [
    "drp = []\n",
    "for i in df.columns.tolist():\n",
    "    if i not in col:\n",
    "        drp.append(i)\n",
    "print(drp)"
   ]
  },
  {
   "cell_type": "code",
   "execution_count": 25,
   "metadata": {},
   "outputs": [],
   "source": [
    "drp = [i for i in drp if i not in \n",
    "       ('transaction_id', 'product_id', 'customer_id','list_price', 'age')]\n",
    "\n",
    "df.drop(columns = drp, inplace = True )"
   ]
  },
  {
   "cell_type": "code",
   "execution_count": 26,
   "metadata": {
    "scrolled": true
   },
   "outputs": [
    {
     "data": {
      "text/html": [
       "<div>\n",
       "<style scoped>\n",
       "    .dataframe tbody tr th:only-of-type {\n",
       "        vertical-align: middle;\n",
       "    }\n",
       "\n",
       "    .dataframe tbody tr th {\n",
       "        vertical-align: top;\n",
       "    }\n",
       "\n",
       "    .dataframe thead th {\n",
       "        text-align: right;\n",
       "    }\n",
       "</style>\n",
       "<table border=\"1\" class=\"dataframe\">\n",
       "  <thead>\n",
       "    <tr style=\"text-align: right;\">\n",
       "      <th></th>\n",
       "      <th>0</th>\n",
       "      <th>1</th>\n",
       "      <th>2</th>\n",
       "      <th>3</th>\n",
       "      <th>4</th>\n",
       "    </tr>\n",
       "  </thead>\n",
       "  <tbody>\n",
       "    <tr>\n",
       "      <th>transaction_id</th>\n",
       "      <td>1</td>\n",
       "      <td>11065</td>\n",
       "      <td>18923</td>\n",
       "      <td>2</td>\n",
       "      <td>6862</td>\n",
       "    </tr>\n",
       "    <tr>\n",
       "      <th>product_id</th>\n",
       "      <td>2</td>\n",
       "      <td>1</td>\n",
       "      <td>62</td>\n",
       "      <td>3</td>\n",
       "      <td>4</td>\n",
       "    </tr>\n",
       "    <tr>\n",
       "      <th>customer_id</th>\n",
       "      <td>2950</td>\n",
       "      <td>2950</td>\n",
       "      <td>2950</td>\n",
       "      <td>3120</td>\n",
       "      <td>3120</td>\n",
       "    </tr>\n",
       "    <tr>\n",
       "      <th>list_price</th>\n",
       "      <td>71.49</td>\n",
       "      <td>1403.5</td>\n",
       "      <td>478.16</td>\n",
       "      <td>2091.47</td>\n",
       "      <td>1129.13</td>\n",
       "    </tr>\n",
       "    <tr>\n",
       "      <th>gender</th>\n",
       "      <td>M</td>\n",
       "      <td>M</td>\n",
       "      <td>M</td>\n",
       "      <td>F</td>\n",
       "      <td>F</td>\n",
       "    </tr>\n",
       "    <tr>\n",
       "      <th>past_3_years_bike_related_purchases</th>\n",
       "      <td>19</td>\n",
       "      <td>19</td>\n",
       "      <td>19</td>\n",
       "      <td>89</td>\n",
       "      <td>89</td>\n",
       "    </tr>\n",
       "    <tr>\n",
       "      <th>job_industry_category</th>\n",
       "      <td>Financial Services</td>\n",
       "      <td>Financial Services</td>\n",
       "      <td>Financial Services</td>\n",
       "      <td>Health</td>\n",
       "      <td>Health</td>\n",
       "    </tr>\n",
       "    <tr>\n",
       "      <th>wealth_segment</th>\n",
       "      <td>Mass Customer</td>\n",
       "      <td>Mass Customer</td>\n",
       "      <td>Mass Customer</td>\n",
       "      <td>Mass Customer</td>\n",
       "      <td>Mass Customer</td>\n",
       "    </tr>\n",
       "    <tr>\n",
       "      <th>owns_car</th>\n",
       "      <td>Yes</td>\n",
       "      <td>Yes</td>\n",
       "      <td>Yes</td>\n",
       "      <td>Yes</td>\n",
       "      <td>Yes</td>\n",
       "    </tr>\n",
       "    <tr>\n",
       "      <th>tenure</th>\n",
       "      <td>10</td>\n",
       "      <td>10</td>\n",
       "      <td>10</td>\n",
       "      <td>10</td>\n",
       "      <td>10</td>\n",
       "    </tr>\n",
       "    <tr>\n",
       "      <th>state</th>\n",
       "      <td>VIC</td>\n",
       "      <td>VIC</td>\n",
       "      <td>VIC</td>\n",
       "      <td>NSW</td>\n",
       "      <td>NSW</td>\n",
       "    </tr>\n",
       "    <tr>\n",
       "      <th>property_valuation</th>\n",
       "      <td>6</td>\n",
       "      <td>6</td>\n",
       "      <td>6</td>\n",
       "      <td>5</td>\n",
       "      <td>5</td>\n",
       "    </tr>\n",
       "    <tr>\n",
       "      <th>age</th>\n",
       "      <td>65</td>\n",
       "      <td>65</td>\n",
       "      <td>65</td>\n",
       "      <td>41</td>\n",
       "      <td>41</td>\n",
       "    </tr>\n",
       "  </tbody>\n",
       "</table>\n",
       "</div>"
      ],
      "text/plain": [
       "                                                      0                   1  \\\n",
       "transaction_id                                        1               11065   \n",
       "product_id                                            2                   1   \n",
       "customer_id                                        2950                2950   \n",
       "list_price                                        71.49              1403.5   \n",
       "gender                                                M                   M   \n",
       "past_3_years_bike_related_purchases                  19                  19   \n",
       "job_industry_category                Financial Services  Financial Services   \n",
       "wealth_segment                            Mass Customer       Mass Customer   \n",
       "owns_car                                            Yes                 Yes   \n",
       "tenure                                               10                  10   \n",
       "state                                               VIC                 VIC   \n",
       "property_valuation                                    6                   6   \n",
       "age                                                  65                  65   \n",
       "\n",
       "                                                      2              3  \\\n",
       "transaction_id                                    18923              2   \n",
       "product_id                                           62              3   \n",
       "customer_id                                        2950           3120   \n",
       "list_price                                       478.16        2091.47   \n",
       "gender                                                M              F   \n",
       "past_3_years_bike_related_purchases                  19             89   \n",
       "job_industry_category                Financial Services         Health   \n",
       "wealth_segment                            Mass Customer  Mass Customer   \n",
       "owns_car                                            Yes            Yes   \n",
       "tenure                                               10             10   \n",
       "state                                               VIC            NSW   \n",
       "property_valuation                                    6              5   \n",
       "age                                                  65             41   \n",
       "\n",
       "                                                 4  \n",
       "transaction_id                                6862  \n",
       "product_id                                       4  \n",
       "customer_id                                   3120  \n",
       "list_price                                 1129.13  \n",
       "gender                                           F  \n",
       "past_3_years_bike_related_purchases             89  \n",
       "job_industry_category                       Health  \n",
       "wealth_segment                       Mass Customer  \n",
       "owns_car                                       Yes  \n",
       "tenure                                          10  \n",
       "state                                          NSW  \n",
       "property_valuation                               5  \n",
       "age                                             41  "
      ]
     },
     "execution_count": 26,
     "metadata": {},
     "output_type": "execute_result"
    }
   ],
   "source": [
    "df.head().T"
   ]
  },
  {
   "cell_type": "code",
   "execution_count": 27,
   "metadata": {},
   "outputs": [],
   "source": [
    "df.job_industry_category.fillna('unknown', inplace = True)"
   ]
  },
  {
   "cell_type": "code",
   "execution_count": 28,
   "metadata": {
    "scrolled": true
   },
   "outputs": [
    {
     "name": "stdout",
     "output_type": "stream",
     "text": [
      "<class 'pandas.core.frame.DataFrame'>\n",
      "RangeIndex: 18809 entries, 0 to 18808\n",
      "Data columns (total 13 columns):\n",
      "transaction_id                         18809 non-null float64\n",
      "product_id                             18809 non-null float64\n",
      "customer_id                            18809 non-null int64\n",
      "list_price                             18809 non-null float64\n",
      "gender                                 18809 non-null object\n",
      "past_3_years_bike_related_purchases    18809 non-null float64\n",
      "job_industry_category                  18809 non-null object\n",
      "wealth_segment                         18809 non-null object\n",
      "owns_car                               18809 non-null object\n",
      "tenure                                 18809 non-null float64\n",
      "state                                  18809 non-null object\n",
      "property_valuation                     18809 non-null float64\n",
      "age                                    18809 non-null float64\n",
      "dtypes: float64(7), int64(1), object(5)\n",
      "memory usage: 1.9+ MB\n"
     ]
    }
   ],
   "source": [
    "df.info()"
   ]
  },
  {
   "cell_type": "code",
   "execution_count": 29,
   "metadata": {},
   "outputs": [],
   "source": [
    "## Revenue is a sum of all bought items per customer\n",
    "revenue = df[['transaction_id', 'customer_id', 'list_price']].groupby('customer_id').list_price.sum()\n",
    "\n",
    "## Quantity of product(s) purcahsed by count each occurence of identified transaction\n",
    "quantity = df[['transaction_id', 'customer_id', 'list_price']].groupby('customer_id').transaction_id.count()"
   ]
  },
  {
   "cell_type": "code",
   "execution_count": 30,
   "metadata": {
    "scrolled": true
   },
   "outputs": [
    {
     "data": {
      "text/plain": [
       "(customer_id\n",
       " 1    11\n",
       " 2     3\n",
       " 4     2\n",
       " 5     6\n",
       " 6     5\n",
       " Name: transaction_id, dtype: int64, customer_id\n",
       " 1    9084.45\n",
       " 2    4149.07\n",
       " 4    1047.72\n",
       " 5    5903.20\n",
       " 6    5931.69\n",
       " Name: list_price, dtype: float64)"
      ]
     },
     "execution_count": 30,
     "metadata": {},
     "output_type": "execute_result"
    }
   ],
   "source": [
    "quantity.head(),revenue.head()"
   ]
  },
  {
   "cell_type": "code",
   "execution_count": 31,
   "metadata": {},
   "outputs": [
    {
     "data": {
      "text/plain": [
       "(18809, 13)"
      ]
     },
     "execution_count": 31,
     "metadata": {},
     "output_type": "execute_result"
    }
   ],
   "source": [
    "df.shape"
   ]
  },
  {
   "cell_type": "code",
   "execution_count": 32,
   "metadata": {
    "scrolled": true
   },
   "outputs": [],
   "source": [
    "drp = ['transaction_id', 'product_id', 'list_price']\n",
    "\n",
    "df.drop(columns = drp, inplace = True)"
   ]
  },
  {
   "cell_type": "code",
   "execution_count": 33,
   "metadata": {},
   "outputs": [],
   "source": [
    "df.drop_duplicates(inplace = True)"
   ]
  },
  {
   "cell_type": "code",
   "execution_count": 34,
   "metadata": {},
   "outputs": [],
   "source": [
    "df = pd.merge(df, quantity.to_frame(), how = 'left', on = 'customer_id')\n",
    "df = pd.merge(df, revenue.to_frame(), how = 'left', on = 'customer_id')"
   ]
  },
  {
   "cell_type": "code",
   "execution_count": 35,
   "metadata": {},
   "outputs": [],
   "source": [
    "### SOME GYMNASTICS\n",
    "df.rename(columns = {'transaction_id': 'quantity', 'list_price':'revenue'}, inplace = True)\n",
    "\n",
    "df.sort_values(by = 'customer_id', ascending = True, inplace = True)\n",
    "df.set_index('customer_id', inplace = True)"
   ]
  },
  {
   "cell_type": "code",
   "execution_count": 36,
   "metadata": {},
   "outputs": [
    {
     "data": {
      "text/html": [
       "<div>\n",
       "<style scoped>\n",
       "    .dataframe tbody tr th:only-of-type {\n",
       "        vertical-align: middle;\n",
       "    }\n",
       "\n",
       "    .dataframe tbody tr th {\n",
       "        vertical-align: top;\n",
       "    }\n",
       "\n",
       "    .dataframe thead th {\n",
       "        text-align: right;\n",
       "    }\n",
       "</style>\n",
       "<table border=\"1\" class=\"dataframe\">\n",
       "  <thead>\n",
       "    <tr style=\"text-align: right;\">\n",
       "      <th>customer_id</th>\n",
       "      <th>1</th>\n",
       "      <th>2</th>\n",
       "      <th>4</th>\n",
       "      <th>5</th>\n",
       "      <th>6</th>\n",
       "    </tr>\n",
       "  </thead>\n",
       "  <tbody>\n",
       "    <tr>\n",
       "      <th>gender</th>\n",
       "      <td>F</td>\n",
       "      <td>M</td>\n",
       "      <td>M</td>\n",
       "      <td>F</td>\n",
       "      <td>M</td>\n",
       "    </tr>\n",
       "    <tr>\n",
       "      <th>past_3_years_bike_related_purchases</th>\n",
       "      <td>93</td>\n",
       "      <td>81</td>\n",
       "      <td>33</td>\n",
       "      <td>56</td>\n",
       "      <td>35</td>\n",
       "    </tr>\n",
       "    <tr>\n",
       "      <th>job_industry_category</th>\n",
       "      <td>Health</td>\n",
       "      <td>Financial Services</td>\n",
       "      <td>IT</td>\n",
       "      <td>unknown</td>\n",
       "      <td>Retail</td>\n",
       "    </tr>\n",
       "    <tr>\n",
       "      <th>wealth_segment</th>\n",
       "      <td>Mass Customer</td>\n",
       "      <td>Mass Customer</td>\n",
       "      <td>Mass Customer</td>\n",
       "      <td>Affluent Customer</td>\n",
       "      <td>High Net Worth</td>\n",
       "    </tr>\n",
       "    <tr>\n",
       "      <th>owns_car</th>\n",
       "      <td>Yes</td>\n",
       "      <td>Yes</td>\n",
       "      <td>No</td>\n",
       "      <td>Yes</td>\n",
       "      <td>Yes</td>\n",
       "    </tr>\n",
       "    <tr>\n",
       "      <th>tenure</th>\n",
       "      <td>11</td>\n",
       "      <td>16</td>\n",
       "      <td>7</td>\n",
       "      <td>8</td>\n",
       "      <td>13</td>\n",
       "    </tr>\n",
       "    <tr>\n",
       "      <th>state</th>\n",
       "      <td>NSW</td>\n",
       "      <td>NSW</td>\n",
       "      <td>QLD</td>\n",
       "      <td>NSW</td>\n",
       "      <td>VIC</td>\n",
       "    </tr>\n",
       "    <tr>\n",
       "      <th>property_valuation</th>\n",
       "      <td>10</td>\n",
       "      <td>10</td>\n",
       "      <td>9</td>\n",
       "      <td>4</td>\n",
       "      <td>9</td>\n",
       "    </tr>\n",
       "    <tr>\n",
       "      <th>age</th>\n",
       "      <td>67</td>\n",
       "      <td>40</td>\n",
       "      <td>59</td>\n",
       "      <td>43</td>\n",
       "      <td>54</td>\n",
       "    </tr>\n",
       "    <tr>\n",
       "      <th>quantity</th>\n",
       "      <td>11</td>\n",
       "      <td>3</td>\n",
       "      <td>2</td>\n",
       "      <td>6</td>\n",
       "      <td>5</td>\n",
       "    </tr>\n",
       "    <tr>\n",
       "      <th>revenue</th>\n",
       "      <td>9084.45</td>\n",
       "      <td>4149.07</td>\n",
       "      <td>1047.72</td>\n",
       "      <td>5903.2</td>\n",
       "      <td>5931.69</td>\n",
       "    </tr>\n",
       "  </tbody>\n",
       "</table>\n",
       "</div>"
      ],
      "text/plain": [
       "customer_id                                      1                   2  \\\n",
       "gender                                           F                   M   \n",
       "past_3_years_bike_related_purchases             93                  81   \n",
       "job_industry_category                       Health  Financial Services   \n",
       "wealth_segment                       Mass Customer       Mass Customer   \n",
       "owns_car                                       Yes                 Yes   \n",
       "tenure                                          11                  16   \n",
       "state                                          NSW                 NSW   \n",
       "property_valuation                              10                  10   \n",
       "age                                             67                  40   \n",
       "quantity                                        11                   3   \n",
       "revenue                                    9084.45             4149.07   \n",
       "\n",
       "customer_id                                      4                  5  \\\n",
       "gender                                           M                  F   \n",
       "past_3_years_bike_related_purchases             33                 56   \n",
       "job_industry_category                           IT            unknown   \n",
       "wealth_segment                       Mass Customer  Affluent Customer   \n",
       "owns_car                                        No                Yes   \n",
       "tenure                                           7                  8   \n",
       "state                                          QLD                NSW   \n",
       "property_valuation                               9                  4   \n",
       "age                                             59                 43   \n",
       "quantity                                         2                  6   \n",
       "revenue                                    1047.72             5903.2   \n",
       "\n",
       "customer_id                                       6  \n",
       "gender                                            M  \n",
       "past_3_years_bike_related_purchases              35  \n",
       "job_industry_category                        Retail  \n",
       "wealth_segment                       High Net Worth  \n",
       "owns_car                                        Yes  \n",
       "tenure                                           13  \n",
       "state                                           VIC  \n",
       "property_valuation                                9  \n",
       "age                                              54  \n",
       "quantity                                          5  \n",
       "revenue                                     5931.69  "
      ]
     },
     "execution_count": 36,
     "metadata": {},
     "output_type": "execute_result"
    }
   ],
   "source": [
    "df.head().T"
   ]
  },
  {
   "cell_type": "markdown",
   "metadata": {},
   "source": [
    "### SCALING AND LABEL ENCODING_ PREPING FOR ML MODELLING"
   ]
  },
  {
   "cell_type": "code",
   "execution_count": 37,
   "metadata": {},
   "outputs": [],
   "source": [
    "from sklearn.preprocessing import LabelEncoder as le\n",
    "\n",
    "df['gender'] = le().fit_transform(df['gender'])\n",
    "df['job_industry_category'] = le().fit_transform(df['job_industry_category'])\n",
    "df['state'] = le().fit_transform(df['state'])"
   ]
  },
  {
   "cell_type": "code",
   "execution_count": 38,
   "metadata": {},
   "outputs": [],
   "source": [
    "map1 = {'N':0, 'Y':1, 'No':0, 'Yes':1}\n",
    "map2 = {'Mass Customer':0, 'Affluent Customer':1, 'High Net Worth':2}\n",
    "\n",
    "df['owns_car'] = df['owns_car'].map(map1)\n",
    "df['wealth_segment'] = df['wealth_segment'].map(map2)"
   ]
  },
  {
   "cell_type": "code",
   "execution_count": 39,
   "metadata": {},
   "outputs": [],
   "source": [
    "X = df.drop(columns = ['revenue','quantity'])\n",
    "y = df['revenue']\n",
    "y2 = df['quantity']"
   ]
  },
  {
   "cell_type": "code",
   "execution_count": 40,
   "metadata": {},
   "outputs": [
    {
     "data": {
      "image/png": "[encoded data removed]",
      "text/plain": [
       "<Figure size 1440x720 with 1 Axes>"
      ]
     },
     "metadata": {
      "needs_background": "light"
     },
     "output_type": "display_data"
    }
   ],
   "source": [
    "X.corrwith(df['revenue']).plot.bar(figsize = (20, 10), \n",
    "                       fontsize = 15, rot = 0,grid = True)\n",
    "plt.title('Correlation with Revenue', fontsize=20)\n",
    "plt.show()"
   ]
  },
  {
   "cell_type": "code",
   "execution_count": 41,
   "metadata": {},
   "outputs": [
    {
     "data": {
      "image/png": "[encoded data removed]",
      "text/plain": [
       "<Figure size 1440x720 with 1 Axes>"
      ]
     },
     "metadata": {
      "needs_background": "light"
     },
     "output_type": "display_data"
    }
   ],
   "source": [
    "X.corrwith(df['quantity']).plot.bar(figsize = (20, 10), \n",
    "                       title = \"Correlation with Diabetes\", \n",
    "                       fontsize = 20, rot = 90,grid = True)\n",
    "plt.show()"
   ]
  },
  {
   "cell_type": "markdown",
   "metadata": {},
   "source": [
    "A preview of what to expect from our model, quantity pourchased seeme to be the only tangible influence on revenue."
   ]
  },
  {
   "cell_type": "code",
   "execution_count": 42,
   "metadata": {
    "scrolled": true
   },
   "outputs": [
    {
     "data": {
      "text/plain": [
       "Index(['gender', 'past_3_years_bike_related_purchases',\n",
       "       'job_industry_category', 'wealth_segment', 'owns_car', 'tenure',\n",
       "       'state', 'property_valuation', 'age', 'quantity', 'revenue'],\n",
       "      dtype='object')"
      ]
     },
     "execution_count": 42,
     "metadata": {},
     "output_type": "execute_result"
    }
   ],
   "source": [
    "df.columns"
   ]
  },
  {
   "cell_type": "markdown",
   "metadata": {},
   "source": [
    "### REGRESSION MODELS"
   ]
  },
  {
   "cell_type": "code",
   "execution_count": 43,
   "metadata": {},
   "outputs": [],
   "source": [
    "### SPLIT Dataset\n",
    "from sklearn.model_selection import train_test_split\n",
    "\n",
    "X_train, X_val, y_train, y_val = train_test_split(X, y, \n",
    "                                                  test_size = 0.20, \n",
    "                                                  random_state = 42)"
   ]
  },
  {
   "cell_type": "raw",
   "metadata": {},
   "source": [
    "### TWEAKING Parameters\n",
    "from sklearn.ensemble import RandomForestRegressor\n",
    "from sklearn.preprocessing import StandardScaler\n",
    "from sklearn.model_selection import StratifiedKFold, GridSearchCV\n",
    "rfr = RandomForestRegressor()\n",
    "\n",
    "a =[None]\n",
    "for i in range(1, 50, 5):\n",
    "    a.append(i)\n",
    "\n",
    "folds = StratifiedKFold(n_splits = 10, random_state = 1, shuffle = True)    \n",
    "    \n",
    "parameter_grid = {'max_depth' : a,\n",
    "                  'criterion' : ['mse','mae'],\n",
    "                  'random_state' : a,\n",
    "                 }\n",
    "\n",
    "grid_search = GridSearchCV(rfr, \n",
    "                           param_grid=parameter_grid)\n",
    "\n",
    "sc_X = StandardScaler()\n",
    "X = sc_X.fit_transform(X_train)\n",
    "grid_search.fit(X, y_train)\n",
    "\n",
    "print('Best parameters: {}'.format(grid_search.best_params_))\n",
    "print('Best score: {}'.format(grid_search.best_score_))"
   ]
  },
  {
   "cell_type": "raw",
   "metadata": {},
   "source": [
    "### RESULTS\n",
    "Best parameters: {'criterion': 'mse', 'max_depth': 1, 'random_state': 11}\n",
    "Best score: -0.0027989809610993485"
   ]
  },
  {
   "cell_type": "code",
   "execution_count": 44,
   "metadata": {},
   "outputs": [
    {
     "data": {
      "text/plain": [
       "Pipeline(memory=None,\n",
       "     steps=[('scalar', StandardScaler(copy=True, with_mean=True, with_std=True)), ('rfr', RandomForestRegressor(bootstrap=True, criterion='mse', max_depth=1,\n",
       "           max_features='auto', max_leaf_nodes=None,\n",
       "           min_impurity_decrease=0.0, min_impurity_split=None,\n",
       "           min_samples_leaf=1, min_samples_split=2,\n",
       "           min_weight_fraction_leaf=0.0, n_estimators=10, n_jobs=None,\n",
       "           oob_score=False, random_state=11, verbose=0, warm_start=False))])"
      ]
     },
     "execution_count": 44,
     "metadata": {},
     "output_type": "execute_result"
    }
   ],
   "source": [
    "from sklearn.pipeline import Pipeline\n",
    "from sklearn.ensemble import RandomForestRegressor\n",
    "from sklearn.preprocessing import StandardScaler\n",
    "model = RandomForestRegressor(criterion = 'mse', \n",
    "                            max_depth = 1, random_state = 11)\n",
    "\n",
    "model = Pipeline([('scalar', StandardScaler()),('rfr', model)])\n",
    "\n",
    "model.fit(X_train, y_train)"
   ]
  },
  {
   "cell_type": "code",
   "execution_count": 45,
   "metadata": {
    "scrolled": false
   },
   "outputs": [
    {
     "data": {
      "text/plain": [
       "['gender',\n",
       " '3yrsPurchases',\n",
       " 'industry',\n",
       " 'wealth_segment',\n",
       " 'owns_car',\n",
       " 'tenure',\n",
       " 'state',\n",
       " 'property_valuation',\n",
       " 'age']"
      ]
     },
     "execution_count": 45,
     "metadata": {},
     "output_type": "execute_result"
    }
   ],
   "source": [
    "X.rename(columns = {'past_3_years_bike_related_purchases':'3yrsPurchases', 'job_industry_category':'industry'}, inplace = True)\n",
    "feats = X.columns.tolist()\n",
    "feats"
   ]
  },
  {
   "cell_type": "code",
   "execution_count": 46,
   "metadata": {},
   "outputs": [
    {
     "data": {
      "image/png": "[encoded data removed]",
      "text/plain": [
       "<Figure size 1080x360 with 1 Axes>"
      ]
     },
     "metadata": {
      "needs_background": "light"
     },
     "output_type": "display_data"
    }
   ],
   "source": [
    "X_train = StandardScaler().fit_transform(X_train)\n",
    "model2 = RandomForestRegressor(criterion = 'mse', \n",
    "                            max_depth = 1, random_state = 11)\n",
    "model2.fit(X_train, y_train)\n",
    "\n",
    "importance = model2.feature_importances_\n",
    "\n",
    "#plot feature importance\n",
    "plt.figure(figsize = (15, 5))\n",
    "plt.bar([x for x in feats], importance)\n",
    "plt.title('Features Importance', fontsize = 15)\n",
    "plt.show()"
   ]
  },
  {
   "cell_type": "code",
   "execution_count": 47,
   "metadata": {},
   "outputs": [
    {
     "data": {
      "text/html": [
       "<div>\n",
       "<style scoped>\n",
       "    .dataframe tbody tr th:only-of-type {\n",
       "        vertical-align: middle;\n",
       "    }\n",
       "\n",
       "    .dataframe tbody tr th {\n",
       "        vertical-align: top;\n",
       "    }\n",
       "\n",
       "    .dataframe thead th {\n",
       "        text-align: right;\n",
       "    }\n",
       "</style>\n",
       "<table border=\"1\" class=\"dataframe\">\n",
       "  <thead>\n",
       "    <tr style=\"text-align: right;\">\n",
       "      <th></th>\n",
       "      <th>Feature</th>\n",
       "      <th>Importance</th>\n",
       "    </tr>\n",
       "  </thead>\n",
       "  <tbody>\n",
       "    <tr>\n",
       "      <th>8</th>\n",
       "      <td>age</td>\n",
       "      <td>0.3</td>\n",
       "    </tr>\n",
       "    <tr>\n",
       "      <th>0</th>\n",
       "      <td>gender</td>\n",
       "      <td>0.2</td>\n",
       "    </tr>\n",
       "    <tr>\n",
       "      <th>5</th>\n",
       "      <td>tenure</td>\n",
       "      <td>0.2</td>\n",
       "    </tr>\n",
       "    <tr>\n",
       "      <th>1</th>\n",
       "      <td>3yrsPurchases</td>\n",
       "      <td>0.1</td>\n",
       "    </tr>\n",
       "    <tr>\n",
       "      <th>2</th>\n",
       "      <td>industry</td>\n",
       "      <td>0.1</td>\n",
       "    </tr>\n",
       "    <tr>\n",
       "      <th>7</th>\n",
       "      <td>property_valuation</td>\n",
       "      <td>0.1</td>\n",
       "    </tr>\n",
       "    <tr>\n",
       "      <th>3</th>\n",
       "      <td>wealth_segment</td>\n",
       "      <td>0.0</td>\n",
       "    </tr>\n",
       "    <tr>\n",
       "      <th>4</th>\n",
       "      <td>owns_car</td>\n",
       "      <td>0.0</td>\n",
       "    </tr>\n",
       "    <tr>\n",
       "      <th>6</th>\n",
       "      <td>state</td>\n",
       "      <td>0.0</td>\n",
       "    </tr>\n",
       "  </tbody>\n",
       "</table>\n",
       "</div>"
      ],
      "text/plain": [
       "              Feature  Importance\n",
       "8                 age         0.3\n",
       "0              gender         0.2\n",
       "5              tenure         0.2\n",
       "1       3yrsPurchases         0.1\n",
       "2            industry         0.1\n",
       "7  property_valuation         0.1\n",
       "3      wealth_segment         0.0\n",
       "4            owns_car         0.0\n",
       "6               state         0.0"
      ]
     },
     "execution_count": 47,
     "metadata": {},
     "output_type": "execute_result"
    }
   ],
   "source": [
    "dt = pd.DataFrame(list(zip(feats, importance)))\n",
    "dt.rename(columns = {0:'Feature', 1:'Importance'}, inplace = True)\n",
    "\n",
    "##Summarize Features Importance\n",
    "dt.sort_values(by = 'Importance', ascending=False)"
   ]
  },
  {
   "cell_type": "code",
   "execution_count": 48,
   "metadata": {},
   "outputs": [],
   "source": [
    "## PREDICTIONS"
   ]
  },
  {
   "cell_type": "code",
   "execution_count": 49,
   "metadata": {},
   "outputs": [],
   "source": [
    "pred = model.predict(X_val)"
   ]
  },
  {
   "cell_type": "code",
   "execution_count": 50,
   "metadata": {},
   "outputs": [
    {
     "name": "stdout",
     "output_type": "stream",
     "text": [
      "              Auctual    Predicted         Diff\n",
      "customer_id                                    \n",
      "37           11291.71  6145.134632  5146.575368\n",
      "3490          4739.70  6175.886546 -1436.186546\n",
      "2438          6007.49  6109.915430  -102.425430\n",
      "1435          8853.71  6109.915430  2743.794570\n",
      "236           5255.34  6145.134632  -889.794632 \n",
      "\n",
      "-118.930837864039\n"
     ]
    }
   ],
   "source": [
    "pred_df = pd.DataFrame({'Auctual':y_val,\n",
    "                         'Predicted': pred,\n",
    "                         'Diff': (y_val - pred)})\n",
    "\n",
    "print(pred_df.head(), '\\n')\n",
    "print(pred_df['Diff'].mean())"
   ]
  },
  {
   "cell_type": "code",
   "execution_count": 51,
   "metadata": {
    "scrolled": true
   },
   "outputs": [
    {
     "data": {
      "text/plain": [
       "<matplotlib.axes._subplots.AxesSubplot at 0x240f6734978>"
      ]
     },
     "execution_count": 51,
     "metadata": {},
     "output_type": "execute_result"
    },
    {
     "data": {
      "image/png": "[encoded data removed]",
      "text/plain": [
       "<Figure size 432x288 with 1 Axes>"
      ]
     },
     "metadata": {
      "needs_background": "light"
     },
     "output_type": "display_data"
    }
   ],
   "source": [
    "sns.distplot(pred_df['Predicted'])"
   ]
  },
  {
   "cell_type": "code",
   "execution_count": 52,
   "metadata": {},
   "outputs": [
    {
     "data": {
      "text/plain": [
       "<matplotlib.axes._subplots.AxesSubplot at 0x240f67cf860>"
      ]
     },
     "execution_count": 52,
     "metadata": {},
     "output_type": "execute_result"
    },
    {
     "data": {
      "image/png": "[encoded data removed]",
      "text/plain": [
       "<Figure size 432x288 with 1 Axes>"
      ]
     },
     "metadata": {
      "needs_background": "light"
     },
     "output_type": "display_data"
    }
   ],
   "source": [
    "sns.distplot(pred_df['Auctual'])"
   ]
  },
  {
   "cell_type": "code",
   "execution_count": 53,
   "metadata": {},
   "outputs": [
    {
     "data": {
      "text/plain": [
       "count     682.000000\n",
       "mean     6121.454738\n",
       "std        86.269582\n",
       "min      5916.287727\n",
       "25%      6105.574886\n",
       "50%      6109.915430\n",
       "75%      6145.134632\n",
       "max      8074.604396\n",
       "Name: Predicted, dtype: float64"
      ]
     },
     "execution_count": 53,
     "metadata": {},
     "output_type": "execute_result"
    }
   ],
   "source": [
    "pred_df['Predicted'].describe()"
   ]
  },
  {
   "cell_type": "code",
   "execution_count": 54,
   "metadata": {},
   "outputs": [],
   "source": [
    "from sklearn.linear_model import LinearRegression\n",
    "lm = LinearRegression()\n",
    "lm.fit(X_train,y_train)\n",
    "y_hat = lm.predict(X_val)"
   ]
  },
  {
   "cell_type": "code",
   "execution_count": 55,
   "metadata": {},
   "outputs": [
    {
     "name": "stdout",
     "output_type": "stream",
     "text": [
      "              Auctual    Predicted         Diff\n",
      "customer_id                                    \n",
      "37           11291.71  5655.128163  5636.581837\n",
      "3490          4739.70  5881.675541 -1141.975541\n",
      "2438          6007.49  5343.280054   664.209946\n",
      "1435          8853.71  5031.670132  3822.039868\n",
      "236           5255.34  5653.981141  -398.641141 \n",
      "\n",
      "243.44019446249254\n"
     ]
    }
   ],
   "source": [
    "pred_df = pd.DataFrame({'Auctual':y_val,\n",
    "                         'Predicted': y_hat,\n",
    "                         'Diff': (y_val - y_hat)})\n",
    "\n",
    "print(pred_df.head(), '\\n')\n",
    "print(pred_df['Diff'].mean())"
   ]
  },
  {
   "cell_type": "code",
   "execution_count": 56,
   "metadata": {},
   "outputs": [
    {
     "data": {
      "text/plain": [
       "count     682.000000\n",
       "mean     5759.083706\n",
       "std       420.015382\n",
       "min      4718.858515\n",
       "25%      5436.619915\n",
       "50%      5767.609359\n",
       "75%      6086.687468\n",
       "max      6763.804576\n",
       "Name: Predicted, dtype: float64"
      ]
     },
     "execution_count": 56,
     "metadata": {},
     "output_type": "execute_result"
    }
   ],
   "source": [
    "pred_df['Predicted'].describe()"
   ]
  },
  {
   "cell_type": "code",
   "execution_count": 57,
   "metadata": {},
   "outputs": [
    {
     "name": "stdout",
     "output_type": "stream",
     "text": [
      "RMSE: 2902.9977915140826\n"
     ]
    }
   ],
   "source": [
    "from sklearn import metrics\n",
    "\n",
    "print('RMSE:', np.sqrt(metrics.mean_squared_error(y_val,pred)))"
   ]
  },
  {
   "cell_type": "code",
   "execution_count": null,
   "metadata": {},
   "outputs": [],
   "source": []
  }
 ],
 "metadata": {
  "kernelspec": {
   "display_name": "Python 3",
   "language": "python",
   "name": "python3"
  },
  "language_info": {
   "codemirror_mode": {
    "name": "ipython",
    "version": 3
   },
   "file_extension": ".py",
   "mimetype": "text/x-python",
   "name": "python",
   "nbconvert_exporter": "python",
   "pygments_lexer": "ipython3",
   "version": "3.7.1"
  }
 },
 "nbformat": 4,
 "nbformat_minor": 2
}
